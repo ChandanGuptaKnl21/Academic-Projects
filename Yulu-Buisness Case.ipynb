{
 "cells": [
  {
   "cell_type": "markdown",
   "id": "d5b88205",
   "metadata": {},
   "source": [
    "#### About Yulu\n",
    "Yulu is India’s leading micro-mobility service provider, which offers unique vehicles for the daily commute. Starting off as a mission to eliminate traffic congestion in India, Yulu provides the safest commute solution through a user-friendly mobile app to enable shared, solo and sustainable commuting.\n",
    "\n",
    "Yulu zones are located at all the appropriate locations (including metro stations, bus stands, office spaces, residential areas, corporate offices, etc) to make those first and last miles smooth, affordable, and convenient!\n",
    "\n",
    "Yulu has recently suffered considerable dips in its revenues. They have contracted a consulting company to understand the factors on which the demand for these shared electric cycles depends. Specifically, they want to understand the factors affecting the demand for these shared electric cycles in the Indian market."
   ]
  },
  {
   "cell_type": "markdown",
   "id": "045d3ccf",
   "metadata": {},
   "source": [
    "#### Analyzization:\n",
    "    \n",
    "1.) Which variables are significant in predicting the demand for shared electric cycles in the Indian market?\n",
    "\n",
    "2.) How well those variables describe the electric cycle demands"
   ]
  },
  {
   "cell_type": "markdown",
   "id": "d4d00b6a",
   "metadata": {},
   "source": [
    "#### Dataset Link : https://d2beiqkhq929f0.cloudfront.net/public_assets/assets/000/001/428/original/bike_sharing.csv?1642089089"
   ]
  },
  {
   "cell_type": "code",
   "execution_count": 35,
   "id": "e9b3a858",
   "metadata": {},
   "outputs": [],
   "source": [
    "import numpy as np\n",
    "import pandas as pd\n",
    "import seaborn as sns\n",
    "import matplotlib.pyplot as plt\n",
    "from statsmodels.graphics.gofplots import qqplot,qqplot_2samples\n",
    "from scipy.stats import ttest_ind,t,f,f_oneway,ttest_1samp,ttest_ind_from_stats,norm,chi2_contingency,shapiro,levene"
   ]
  },
  {
   "cell_type": "code",
   "execution_count": 2,
   "id": "560d900e",
   "metadata": {},
   "outputs": [],
   "source": [
    "yulu=pd.read_csv(\"bike_sharing.csv\")"
   ]
  },
  {
   "cell_type": "code",
   "execution_count": 3,
   "id": "35a73ac6",
   "metadata": {},
   "outputs": [
    {
     "data": {
      "text/html": [
       "<div>\n",
       "<style scoped>\n",
       "    .dataframe tbody tr th:only-of-type {\n",
       "        vertical-align: middle;\n",
       "    }\n",
       "\n",
       "    .dataframe tbody tr th {\n",
       "        vertical-align: top;\n",
       "    }\n",
       "\n",
       "    .dataframe thead th {\n",
       "        text-align: right;\n",
       "    }\n",
       "</style>\n",
       "<table border=\"1\" class=\"dataframe\">\n",
       "  <thead>\n",
       "    <tr style=\"text-align: right;\">\n",
       "      <th></th>\n",
       "      <th>datetime</th>\n",
       "      <th>season</th>\n",
       "      <th>holiday</th>\n",
       "      <th>workingday</th>\n",
       "      <th>weather</th>\n",
       "      <th>temp</th>\n",
       "      <th>atemp</th>\n",
       "      <th>humidity</th>\n",
       "      <th>windspeed</th>\n",
       "      <th>casual</th>\n",
       "      <th>registered</th>\n",
       "      <th>count</th>\n",
       "    </tr>\n",
       "  </thead>\n",
       "  <tbody>\n",
       "    <tr>\n",
       "      <th>0</th>\n",
       "      <td>2011-01-01 00:00:00</td>\n",
       "      <td>1</td>\n",
       "      <td>0</td>\n",
       "      <td>0</td>\n",
       "      <td>1</td>\n",
       "      <td>9.84</td>\n",
       "      <td>14.395</td>\n",
       "      <td>81</td>\n",
       "      <td>0.0000</td>\n",
       "      <td>3</td>\n",
       "      <td>13</td>\n",
       "      <td>16</td>\n",
       "    </tr>\n",
       "    <tr>\n",
       "      <th>1</th>\n",
       "      <td>2011-01-01 01:00:00</td>\n",
       "      <td>1</td>\n",
       "      <td>0</td>\n",
       "      <td>0</td>\n",
       "      <td>1</td>\n",
       "      <td>9.02</td>\n",
       "      <td>13.635</td>\n",
       "      <td>80</td>\n",
       "      <td>0.0000</td>\n",
       "      <td>8</td>\n",
       "      <td>32</td>\n",
       "      <td>40</td>\n",
       "    </tr>\n",
       "    <tr>\n",
       "      <th>2</th>\n",
       "      <td>2011-01-01 02:00:00</td>\n",
       "      <td>1</td>\n",
       "      <td>0</td>\n",
       "      <td>0</td>\n",
       "      <td>1</td>\n",
       "      <td>9.02</td>\n",
       "      <td>13.635</td>\n",
       "      <td>80</td>\n",
       "      <td>0.0000</td>\n",
       "      <td>5</td>\n",
       "      <td>27</td>\n",
       "      <td>32</td>\n",
       "    </tr>\n",
       "    <tr>\n",
       "      <th>3</th>\n",
       "      <td>2011-01-01 03:00:00</td>\n",
       "      <td>1</td>\n",
       "      <td>0</td>\n",
       "      <td>0</td>\n",
       "      <td>1</td>\n",
       "      <td>9.84</td>\n",
       "      <td>14.395</td>\n",
       "      <td>75</td>\n",
       "      <td>0.0000</td>\n",
       "      <td>3</td>\n",
       "      <td>10</td>\n",
       "      <td>13</td>\n",
       "    </tr>\n",
       "    <tr>\n",
       "      <th>4</th>\n",
       "      <td>2011-01-01 04:00:00</td>\n",
       "      <td>1</td>\n",
       "      <td>0</td>\n",
       "      <td>0</td>\n",
       "      <td>1</td>\n",
       "      <td>9.84</td>\n",
       "      <td>14.395</td>\n",
       "      <td>75</td>\n",
       "      <td>0.0000</td>\n",
       "      <td>0</td>\n",
       "      <td>1</td>\n",
       "      <td>1</td>\n",
       "    </tr>\n",
       "    <tr>\n",
       "      <th>...</th>\n",
       "      <td>...</td>\n",
       "      <td>...</td>\n",
       "      <td>...</td>\n",
       "      <td>...</td>\n",
       "      <td>...</td>\n",
       "      <td>...</td>\n",
       "      <td>...</td>\n",
       "      <td>...</td>\n",
       "      <td>...</td>\n",
       "      <td>...</td>\n",
       "      <td>...</td>\n",
       "      <td>...</td>\n",
       "    </tr>\n",
       "    <tr>\n",
       "      <th>10881</th>\n",
       "      <td>2012-12-19 19:00:00</td>\n",
       "      <td>4</td>\n",
       "      <td>0</td>\n",
       "      <td>1</td>\n",
       "      <td>1</td>\n",
       "      <td>15.58</td>\n",
       "      <td>19.695</td>\n",
       "      <td>50</td>\n",
       "      <td>26.0027</td>\n",
       "      <td>7</td>\n",
       "      <td>329</td>\n",
       "      <td>336</td>\n",
       "    </tr>\n",
       "    <tr>\n",
       "      <th>10882</th>\n",
       "      <td>2012-12-19 20:00:00</td>\n",
       "      <td>4</td>\n",
       "      <td>0</td>\n",
       "      <td>1</td>\n",
       "      <td>1</td>\n",
       "      <td>14.76</td>\n",
       "      <td>17.425</td>\n",
       "      <td>57</td>\n",
       "      <td>15.0013</td>\n",
       "      <td>10</td>\n",
       "      <td>231</td>\n",
       "      <td>241</td>\n",
       "    </tr>\n",
       "    <tr>\n",
       "      <th>10883</th>\n",
       "      <td>2012-12-19 21:00:00</td>\n",
       "      <td>4</td>\n",
       "      <td>0</td>\n",
       "      <td>1</td>\n",
       "      <td>1</td>\n",
       "      <td>13.94</td>\n",
       "      <td>15.910</td>\n",
       "      <td>61</td>\n",
       "      <td>15.0013</td>\n",
       "      <td>4</td>\n",
       "      <td>164</td>\n",
       "      <td>168</td>\n",
       "    </tr>\n",
       "    <tr>\n",
       "      <th>10884</th>\n",
       "      <td>2012-12-19 22:00:00</td>\n",
       "      <td>4</td>\n",
       "      <td>0</td>\n",
       "      <td>1</td>\n",
       "      <td>1</td>\n",
       "      <td>13.94</td>\n",
       "      <td>17.425</td>\n",
       "      <td>61</td>\n",
       "      <td>6.0032</td>\n",
       "      <td>12</td>\n",
       "      <td>117</td>\n",
       "      <td>129</td>\n",
       "    </tr>\n",
       "    <tr>\n",
       "      <th>10885</th>\n",
       "      <td>2012-12-19 23:00:00</td>\n",
       "      <td>4</td>\n",
       "      <td>0</td>\n",
       "      <td>1</td>\n",
       "      <td>1</td>\n",
       "      <td>13.12</td>\n",
       "      <td>16.665</td>\n",
       "      <td>66</td>\n",
       "      <td>8.9981</td>\n",
       "      <td>4</td>\n",
       "      <td>84</td>\n",
       "      <td>88</td>\n",
       "    </tr>\n",
       "  </tbody>\n",
       "</table>\n",
       "<p>10886 rows × 12 columns</p>\n",
       "</div>"
      ],
      "text/plain": [
       "                  datetime  season  holiday  workingday  weather   temp  \\\n",
       "0      2011-01-01 00:00:00       1        0           0        1   9.84   \n",
       "1      2011-01-01 01:00:00       1        0           0        1   9.02   \n",
       "2      2011-01-01 02:00:00       1        0           0        1   9.02   \n",
       "3      2011-01-01 03:00:00       1        0           0        1   9.84   \n",
       "4      2011-01-01 04:00:00       1        0           0        1   9.84   \n",
       "...                    ...     ...      ...         ...      ...    ...   \n",
       "10881  2012-12-19 19:00:00       4        0           1        1  15.58   \n",
       "10882  2012-12-19 20:00:00       4        0           1        1  14.76   \n",
       "10883  2012-12-19 21:00:00       4        0           1        1  13.94   \n",
       "10884  2012-12-19 22:00:00       4        0           1        1  13.94   \n",
       "10885  2012-12-19 23:00:00       4        0           1        1  13.12   \n",
       "\n",
       "        atemp  humidity  windspeed  casual  registered  count  \n",
       "0      14.395        81     0.0000       3          13     16  \n",
       "1      13.635        80     0.0000       8          32     40  \n",
       "2      13.635        80     0.0000       5          27     32  \n",
       "3      14.395        75     0.0000       3          10     13  \n",
       "4      14.395        75     0.0000       0           1      1  \n",
       "...       ...       ...        ...     ...         ...    ...  \n",
       "10881  19.695        50    26.0027       7         329    336  \n",
       "10882  17.425        57    15.0013      10         231    241  \n",
       "10883  15.910        61    15.0013       4         164    168  \n",
       "10884  17.425        61     6.0032      12         117    129  \n",
       "10885  16.665        66     8.9981       4          84     88  \n",
       "\n",
       "[10886 rows x 12 columns]"
      ]
     },
     "execution_count": 3,
     "metadata": {},
     "output_type": "execute_result"
    }
   ],
   "source": [
    "yulu"
   ]
  },
  {
   "cell_type": "markdown",
   "id": "dc4b68e3",
   "metadata": {},
   "source": [
    "#### Column Profiling:\n",
    "\n",
    "datetime: datetime\n",
    "\n",
    "season: season (1: spring, 2: summer, 3: fall, 4: winter)\n",
    "\n",
    "holiday: whether day is a holiday or not (extracted from http://dchr.dc.gov/page/holiday-schedule)\n",
    "\n",
    "workingday: if day is neither weekend nor holiday is 1, otherwise is 0.\n",
    "\n",
    "weather:\n",
    "\n",
    "1: Clear, Few clouds, partly cloudy, partly cloudy\n",
    "\n",
    "2: Mist + Cloudy, Mist + Broken clouds, Mist + Few clouds, Mist\n",
    "\n",
    "3: Light Snow, Light Rain + Thunderstorm + Scattered clouds, Light Rain + Scattered clouds\n",
    "\n",
    "4: Heavy Rain + Ice Pallets + Thunderstorm + Mist, Snow + Fog\n",
    "\n",
    "temp: temperature in Celsius\n",
    "\n",
    "atemp: feeling temperature in Celsius\n",
    "\n",
    "humidity: humidity\n",
    "\n",
    "windspeed: wind speed\n",
    "\n",
    "casual: count of casual users\n",
    "\n",
    "registered: count of registered users\n",
    "\n",
    "count: count of total rental bikes including both casual and registered"
   ]
  },
  {
   "cell_type": "markdown",
   "id": "f3d4f96d",
   "metadata": {},
   "source": [
    "### Define Problem Statement and perform Exploratory Data Analysis \n",
    "\n",
    "Definition of problem (as per given problem statement with additional views)\n",
    "\n",
    "Observations on shape of data, data types of all the attributes, conversion of categorical attributes to 'category' (If required) , missing value detection, statistical summary.\n",
    "\n",
    "Univariate Analysis (distribution plots of all the continuous variable(s) barplots/countplots of all the categorical variables)\n",
    "\n",
    "Bivariate Analysis (Relationships between important variables such as workday and count, season and count, weather and count.\n",
    "\n",
    "Illustrate the insights based on EDA\n",
    "\n",
    "Comments on range of attributes, outliers of various attributes\n",
    "\n",
    "Comments on the distribution of the variables and relationship between them\n",
    "\n",
    "Comments for each univariate and bivariate plots"
   ]
  },
  {
   "cell_type": "code",
   "execution_count": 5,
   "id": "9b2e7163",
   "metadata": {},
   "outputs": [
    {
     "data": {
      "text/html": [
       "<div>\n",
       "<style scoped>\n",
       "    .dataframe tbody tr th:only-of-type {\n",
       "        vertical-align: middle;\n",
       "    }\n",
       "\n",
       "    .dataframe tbody tr th {\n",
       "        vertical-align: top;\n",
       "    }\n",
       "\n",
       "    .dataframe thead th {\n",
       "        text-align: right;\n",
       "    }\n",
       "</style>\n",
       "<table border=\"1\" class=\"dataframe\">\n",
       "  <thead>\n",
       "    <tr style=\"text-align: right;\">\n",
       "      <th></th>\n",
       "      <th>season</th>\n",
       "      <th>holiday</th>\n",
       "      <th>workingday</th>\n",
       "      <th>weather</th>\n",
       "      <th>temp</th>\n",
       "      <th>atemp</th>\n",
       "      <th>humidity</th>\n",
       "      <th>windspeed</th>\n",
       "      <th>casual</th>\n",
       "      <th>registered</th>\n",
       "      <th>count</th>\n",
       "    </tr>\n",
       "  </thead>\n",
       "  <tbody>\n",
       "    <tr>\n",
       "      <th>count</th>\n",
       "      <td>10886.000000</td>\n",
       "      <td>10886.000000</td>\n",
       "      <td>10886.000000</td>\n",
       "      <td>10886.000000</td>\n",
       "      <td>10886.00000</td>\n",
       "      <td>10886.000000</td>\n",
       "      <td>10886.000000</td>\n",
       "      <td>10886.000000</td>\n",
       "      <td>10886.000000</td>\n",
       "      <td>10886.000000</td>\n",
       "      <td>10886.000000</td>\n",
       "    </tr>\n",
       "    <tr>\n",
       "      <th>mean</th>\n",
       "      <td>2.506614</td>\n",
       "      <td>0.028569</td>\n",
       "      <td>0.680875</td>\n",
       "      <td>1.418427</td>\n",
       "      <td>20.23086</td>\n",
       "      <td>23.655084</td>\n",
       "      <td>61.886460</td>\n",
       "      <td>12.799395</td>\n",
       "      <td>36.021955</td>\n",
       "      <td>155.552177</td>\n",
       "      <td>191.574132</td>\n",
       "    </tr>\n",
       "    <tr>\n",
       "      <th>std</th>\n",
       "      <td>1.116174</td>\n",
       "      <td>0.166599</td>\n",
       "      <td>0.466159</td>\n",
       "      <td>0.633839</td>\n",
       "      <td>7.79159</td>\n",
       "      <td>8.474601</td>\n",
       "      <td>19.245033</td>\n",
       "      <td>8.164537</td>\n",
       "      <td>49.960477</td>\n",
       "      <td>151.039033</td>\n",
       "      <td>181.144454</td>\n",
       "    </tr>\n",
       "    <tr>\n",
       "      <th>min</th>\n",
       "      <td>1.000000</td>\n",
       "      <td>0.000000</td>\n",
       "      <td>0.000000</td>\n",
       "      <td>1.000000</td>\n",
       "      <td>0.82000</td>\n",
       "      <td>0.760000</td>\n",
       "      <td>0.000000</td>\n",
       "      <td>0.000000</td>\n",
       "      <td>0.000000</td>\n",
       "      <td>0.000000</td>\n",
       "      <td>1.000000</td>\n",
       "    </tr>\n",
       "    <tr>\n",
       "      <th>25%</th>\n",
       "      <td>2.000000</td>\n",
       "      <td>0.000000</td>\n",
       "      <td>0.000000</td>\n",
       "      <td>1.000000</td>\n",
       "      <td>13.94000</td>\n",
       "      <td>16.665000</td>\n",
       "      <td>47.000000</td>\n",
       "      <td>7.001500</td>\n",
       "      <td>4.000000</td>\n",
       "      <td>36.000000</td>\n",
       "      <td>42.000000</td>\n",
       "    </tr>\n",
       "    <tr>\n",
       "      <th>50%</th>\n",
       "      <td>3.000000</td>\n",
       "      <td>0.000000</td>\n",
       "      <td>1.000000</td>\n",
       "      <td>1.000000</td>\n",
       "      <td>20.50000</td>\n",
       "      <td>24.240000</td>\n",
       "      <td>62.000000</td>\n",
       "      <td>12.998000</td>\n",
       "      <td>17.000000</td>\n",
       "      <td>118.000000</td>\n",
       "      <td>145.000000</td>\n",
       "    </tr>\n",
       "    <tr>\n",
       "      <th>75%</th>\n",
       "      <td>4.000000</td>\n",
       "      <td>0.000000</td>\n",
       "      <td>1.000000</td>\n",
       "      <td>2.000000</td>\n",
       "      <td>26.24000</td>\n",
       "      <td>31.060000</td>\n",
       "      <td>77.000000</td>\n",
       "      <td>16.997900</td>\n",
       "      <td>49.000000</td>\n",
       "      <td>222.000000</td>\n",
       "      <td>284.000000</td>\n",
       "    </tr>\n",
       "    <tr>\n",
       "      <th>max</th>\n",
       "      <td>4.000000</td>\n",
       "      <td>1.000000</td>\n",
       "      <td>1.000000</td>\n",
       "      <td>4.000000</td>\n",
       "      <td>41.00000</td>\n",
       "      <td>45.455000</td>\n",
       "      <td>100.000000</td>\n",
       "      <td>56.996900</td>\n",
       "      <td>367.000000</td>\n",
       "      <td>886.000000</td>\n",
       "      <td>977.000000</td>\n",
       "    </tr>\n",
       "  </tbody>\n",
       "</table>\n",
       "</div>"
      ],
      "text/plain": [
       "             season       holiday    workingday       weather         temp  \\\n",
       "count  10886.000000  10886.000000  10886.000000  10886.000000  10886.00000   \n",
       "mean       2.506614      0.028569      0.680875      1.418427     20.23086   \n",
       "std        1.116174      0.166599      0.466159      0.633839      7.79159   \n",
       "min        1.000000      0.000000      0.000000      1.000000      0.82000   \n",
       "25%        2.000000      0.000000      0.000000      1.000000     13.94000   \n",
       "50%        3.000000      0.000000      1.000000      1.000000     20.50000   \n",
       "75%        4.000000      0.000000      1.000000      2.000000     26.24000   \n",
       "max        4.000000      1.000000      1.000000      4.000000     41.00000   \n",
       "\n",
       "              atemp      humidity     windspeed        casual    registered  \\\n",
       "count  10886.000000  10886.000000  10886.000000  10886.000000  10886.000000   \n",
       "mean      23.655084     61.886460     12.799395     36.021955    155.552177   \n",
       "std        8.474601     19.245033      8.164537     49.960477    151.039033   \n",
       "min        0.760000      0.000000      0.000000      0.000000      0.000000   \n",
       "25%       16.665000     47.000000      7.001500      4.000000     36.000000   \n",
       "50%       24.240000     62.000000     12.998000     17.000000    118.000000   \n",
       "75%       31.060000     77.000000     16.997900     49.000000    222.000000   \n",
       "max       45.455000    100.000000     56.996900    367.000000    886.000000   \n",
       "\n",
       "              count  \n",
       "count  10886.000000  \n",
       "mean     191.574132  \n",
       "std      181.144454  \n",
       "min        1.000000  \n",
       "25%       42.000000  \n",
       "50%      145.000000  \n",
       "75%      284.000000  \n",
       "max      977.000000  "
      ]
     },
     "execution_count": 5,
     "metadata": {},
     "output_type": "execute_result"
    }
   ],
   "source": [
    "yulu.describe()"
   ]
  },
  {
   "cell_type": "code",
   "execution_count": 14,
   "id": "40e6b57f",
   "metadata": {},
   "outputs": [
    {
     "data": {
      "text/plain": [
       "datetime       object\n",
       "season          int64\n",
       "holiday         int64\n",
       "workingday      int64\n",
       "weather         int64\n",
       "temp          float64\n",
       "atemp         float64\n",
       "humidity        int64\n",
       "windspeed     float64\n",
       "casual          int64\n",
       "registered      int64\n",
       "count           int64\n",
       "dtype: object"
      ]
     },
     "execution_count": 14,
     "metadata": {},
     "output_type": "execute_result"
    }
   ],
   "source": [
    "# Analyzing Data Types of each Column\n",
    "yulu.dtypes"
   ]
  },
  {
   "cell_type": "code",
   "execution_count": 13,
   "id": "af6ebf83",
   "metadata": {},
   "outputs": [
    {
     "data": {
      "text/plain": [
       "datetime      0\n",
       "season        0\n",
       "holiday       0\n",
       "workingday    0\n",
       "weather       0\n",
       "temp          0\n",
       "atemp         0\n",
       "humidity      0\n",
       "windspeed     0\n",
       "casual        0\n",
       "registered    0\n",
       "count         0\n",
       "dtype: int64"
      ]
     },
     "execution_count": 13,
     "metadata": {},
     "output_type": "execute_result"
    }
   ],
   "source": [
    "# Analyzing any null values in Dataset\n",
    "yulu.isna().sum()"
   ]
  },
  {
   "cell_type": "markdown",
   "id": "53640888",
   "metadata": {},
   "source": [
    "### Try establishing a relation between the dependent and independent variable (Dependent “Count” & Independent: Workingday, Weather, Season etc)"
   ]
  },
  {
   "cell_type": "code",
   "execution_count": 11,
   "id": "5758b913",
   "metadata": {},
   "outputs": [
    {
     "data": {
      "text/plain": [
       "array([1, 2, 3, 4], dtype=int64)"
      ]
     },
     "execution_count": 11,
     "metadata": {},
     "output_type": "execute_result"
    }
   ],
   "source": [
    "# Analyzing Weather kinds\n",
    "yulu[\"weather\"].unique()"
   ]
  },
  {
   "cell_type": "code",
   "execution_count": 12,
   "id": "b641e587",
   "metadata": {},
   "outputs": [
    {
     "data": {
      "text/plain": [
       "array([1, 2, 3, 4], dtype=int64)"
      ]
     },
     "execution_count": 12,
     "metadata": {},
     "output_type": "execute_result"
    }
   ],
   "source": [
    "# Analyzing Season Kinds\n",
    "yulu[\"season\"].unique()"
   ]
  },
  {
   "cell_type": "code",
   "execution_count": 22,
   "id": "6caf3c07",
   "metadata": {},
   "outputs": [
    {
     "data": {
      "text/plain": [
       "0    10575\n",
       "1      311\n",
       "Name: holiday, dtype: int64"
      ]
     },
     "execution_count": 22,
     "metadata": {},
     "output_type": "execute_result"
    }
   ],
   "source": [
    "# Anlayzing Holiday Counts\n",
    "yulu[\"holiday\"].value_counts()"
   ]
  },
  {
   "cell_type": "code",
   "execution_count": 24,
   "id": "5c206892",
   "metadata": {},
   "outputs": [
    {
     "data": {
      "text/plain": [
       "1    7412\n",
       "0    3474\n",
       "Name: workingday, dtype: int64"
      ]
     },
     "execution_count": 24,
     "metadata": {},
     "output_type": "execute_result"
    }
   ],
   "source": [
    "# Anlayzing Working Day Counts\n",
    "yulu[\"workingday\"].value_counts()\n"
   ]
  },
  {
   "cell_type": "code",
   "execution_count": 15,
   "id": "5581403f",
   "metadata": {},
   "outputs": [
    {
     "data": {
      "text/plain": [
       "4    2734\n",
       "2    2733\n",
       "3    2733\n",
       "1    2686\n",
       "Name: season, dtype: int64"
      ]
     },
     "execution_count": 15,
     "metadata": {},
     "output_type": "execute_result"
    }
   ],
   "source": [
    "yulu[\"season\"].value_counts()"
   ]
  },
  {
   "cell_type": "code",
   "execution_count": 17,
   "id": "ad460402",
   "metadata": {},
   "outputs": [
    {
     "data": {
      "text/plain": [
       "1    7192\n",
       "2    2834\n",
       "3     859\n",
       "4       1\n",
       "Name: weather, dtype: int64"
      ]
     },
     "execution_count": 17,
     "metadata": {},
     "output_type": "execute_result"
    }
   ],
   "source": [
    "yulu[\"weather\"].value_counts()"
   ]
  },
  {
   "cell_type": "code",
   "execution_count": 99,
   "id": "e5c54c23",
   "metadata": {},
   "outputs": [
    {
     "data": {
      "image/png": "[encoded data removed]",
      "text/plain": [
       "<Figure size 432x288 with 1 Axes>"
      ]
     },
     "metadata": {
      "needs_background": "light"
     },
     "output_type": "display_data"
    },
    {
     "data": {
      "image/png": "[encoded data removed]",
      "text/plain": [
       "<Figure size 504x504 with 1 Axes>"
      ]
     },
     "metadata": {
      "needs_background": "light"
     },
     "output_type": "display_data"
    },
    {
     "data": {
      "image/png": "[encoded data removed]",
      "text/plain": [
       "<Figure size 504x504 with 1 Axes>"
      ]
     },
     "metadata": {
      "needs_background": "light"
     },
     "output_type": "display_data"
    }
   ],
   "source": [
    "#Uni Variate Analysis\n",
    "# Holidays countplot\n",
    "sns.countplot(x=yulu[\"holiday\"])\n",
    "plt.show()\n",
    "\n",
    "plt.figure(figsize=(7,7))\n",
    "sns.countplot(x=yulu[\"holiday\"],hue=yulu[\"season\"])\n",
    "plt.show()\n",
    "\n",
    "plt.figure(figsize=(7,7))\n",
    "sns.countplot(x=yulu[\"holiday\"],hue=yulu[\"weather\"])\n",
    "plt.show()\n"
   ]
  },
  {
   "cell_type": "code",
   "execution_count": 96,
   "id": "dc70dddc",
   "metadata": {},
   "outputs": [
    {
     "data": {
      "image/png": "[encoded data removed]",
      "text/plain": [
       "<Figure size 432x288 with 1 Axes>"
      ]
     },
     "metadata": {
      "needs_background": "light"
     },
     "output_type": "display_data"
    },
    {
     "name": "stdout",
     "output_type": "stream",
     "text": [
      "Completely Showing on Working Days yulu Servies are more used\n"
     ]
    },
    {
     "data": {
      "image/png": "[encoded data removed]",
      "text/plain": [
       "<Figure size 504x504 with 1 Axes>"
      ]
     },
     "metadata": {
      "needs_background": "light"
     },
     "output_type": "display_data"
    },
    {
     "data": {
      "image/png": "[encoded data removed]",
      "text/plain": [
       "<Figure size 504x504 with 1 Axes>"
      ]
     },
     "metadata": {
      "needs_background": "light"
     },
     "output_type": "display_data"
    }
   ],
   "source": [
    "\n",
    "# Univariate Analysis\n",
    "# working days countplot\n",
    "sns.countplot(x=yulu[\"workingday\"])\n",
    "plt.show()\n",
    "print(\"Completely Showing on Working Days yulu Servies are more used\")\n",
    "\n",
    "plt.figure(figsize=(7,7))\n",
    "sns.countplot(x=yulu[\"workingday\"],hue=yulu[\"season\"])\n",
    "plt.show()\n",
    "\n",
    "\n",
    "plt.figure(figsize=(7,7))\n",
    "sns.countplot(x=yulu[\"workingday\"],hue=yulu[\"weather\"])\n",
    "plt.show()\n",
    " "
   ]
  },
  {
   "cell_type": "code",
   "execution_count": 97,
   "id": "181cbe03",
   "metadata": {},
   "outputs": [
    {
     "data": {
      "image/png": "[encoded data removed]",
      "text/plain": [
       "<Figure size 432x288 with 1 Axes>"
      ]
     },
     "metadata": {
      "needs_background": "light"
     },
     "output_type": "display_data"
    },
    {
     "data": {
      "image/png": "[encoded data removed]",
      "text/plain": [
       "<Figure size 432x288 with 1 Axes>"
      ]
     },
     "metadata": {
      "needs_background": "light"
     },
     "output_type": "display_data"
    },
    {
     "name": "stdout",
     "output_type": "stream",
     "text": [
      "showing Season affect in all season are same\n"
     ]
    }
   ],
   "source": [
    "# Analyzing Weather \n",
    "sns.countplot(x=yulu[\"weather\"])\n",
    "plt.show()\n",
    "\n",
    "# Analyzing Season\n",
    "sns.countplot(x=yulu[\"season\"])\n",
    "plt.show()\n",
    "print(\"showing Season affect in all season are same\")"
   ]
  },
  {
   "cell_type": "code",
   "execution_count": 98,
   "id": "3a08ec0a",
   "metadata": {},
   "outputs": [
    {
     "data": {
      "image/png": "[encoded data removed]",
      "text/plain": [
       "<Figure size 432x288 with 1 Axes>"
      ]
     },
     "metadata": {
      "needs_background": "light"
     },
     "output_type": "display_data"
    },
    {
     "data": {
      "image/png": "[encoded data removed]",
      "text/plain": [
       "<Figure size 432x288 with 1 Axes>"
      ]
     },
     "metadata": {
      "needs_background": "light"
     },
     "output_type": "display_data"
    },
    {
     "data": {
      "image/png": "[encoded data removed]",
      "text/plain": [
       "<Figure size 432x288 with 1 Axes>"
      ]
     },
     "metadata": {
      "needs_background": "light"
     },
     "output_type": "display_data"
    }
   ],
   "source": [
    "# Bivariate Analysis\n",
    "\n",
    "# Season Vs Count\n",
    "sns.barplot(x=yulu[\"season\"],y=yulu[\"count\"])\n",
    "plt.show()\n",
    "\n",
    "# Workingday Vs Count\n",
    "sns.barplot(x=yulu[\"workingday\"],y=yulu[\"count\"])\n",
    "plt.show()\n",
    "\n",
    "# Weather Vs Count\n",
    "sns.barplot(x=yulu[\"weather\"],y=yulu[\"count\"])\n",
    "plt.show()"
   ]
  },
  {
   "cell_type": "code",
   "execution_count": 89,
   "id": "4abf26d4",
   "metadata": {},
   "outputs": [
    {
     "data": {
      "image/png": "[encoded data removed]",
      "text/plain": [
       "<Figure size 432x288 with 1 Axes>"
      ]
     },
     "metadata": {
      "needs_background": "light"
     },
     "output_type": "display_data"
    },
    {
     "data": {
      "image/png": "[encoded data removed]",
      "text/plain": [
       "<Figure size 432x288 with 1 Axes>"
      ]
     },
     "metadata": {
      "needs_background": "light"
     },
     "output_type": "display_data"
    },
    {
     "name": "stdout",
     "output_type": "stream",
     "text": [
      "Mean for registerd on holiday -  137.09646302250803\n",
      "Mean for registerd on No holiday -  156.09494089834516\n"
     ]
    }
   ],
   "source": [
    "# Box Plot Analysis for Holiday on Count and registerd\n",
    "sns.boxplot(x=yulu[\"holiday\"],y=yulu[\"registered\"])\n",
    "plt.show()\n",
    "\n",
    "sns.boxplot(x=yulu[\"holiday\"],y=yulu[\"count\"])\n",
    "plt.show()\n",
    "\n",
    "# showing mean for holiday and no holiday for registerd are almost same\n",
    "\n",
    "YesHoliday=yulu[yulu[\"holiday\"]==1][\"registered\"].mean()\n",
    "NoHoliday=yulu[yulu[\"holiday\"]==0][\"registered\"].mean()\n",
    "\n",
    "print(\"Mean for registerd on holiday - \",YesHoliday)\n",
    "print(\"Mean for registerd on No holiday - \",NoHoliday)"
   ]
  },
  {
   "cell_type": "code",
   "execution_count": 90,
   "id": "515ade33",
   "metadata": {},
   "outputs": [
    {
     "data": {
      "image/png": "[encoded data removed]",
      "text/plain": [
       "<Figure size 432x288 with 1 Axes>"
      ]
     },
     "metadata": {
      "needs_background": "light"
     },
     "output_type": "display_data"
    },
    {
     "data": {
      "image/png": "[encoded data removed]",
      "text/plain": [
       "<Figure size 432x288 with 1 Axes>"
      ]
     },
     "metadata": {
      "needs_background": "light"
     },
     "output_type": "display_data"
    },
    {
     "name": "stdout",
     "output_type": "stream",
     "text": [
      "Mean for registerd on workingday -  167.9042093901781\n",
      "Mean for registerd on No workingday -  129.19833045480715\n"
     ]
    }
   ],
   "source": [
    "# Box Plot Analysis for Workingday on Count and registerd\n",
    "sns.boxplot(x=yulu[\"workingday\"],y=yulu[\"registered\"])\n",
    "plt.show()\n",
    "\n",
    "sns.boxplot(x=yulu[\"workingday\"],y=yulu[\"count\"])\n",
    "plt.show()\n",
    "\n",
    "# showing mean for holiday and no holiday for registerd are almost same\n",
    "\n",
    "Yesworkingday=yulu[yulu[\"workingday\"]==1][\"registered\"].mean()\n",
    "Noworkingday=yulu[yulu[\"workingday\"]==0][\"registered\"].mean()\n",
    "\n",
    "print(\"Mean for registerd on workingday - \",Yesworkingday)\n",
    "print(\"Mean for registerd on No workingday - \",Noworkingday)"
   ]
  },
  {
   "cell_type": "code",
   "execution_count": 78,
   "id": "ce3a6b6d",
   "metadata": {},
   "outputs": [
    {
     "data": {
      "image/png": "[encoded data removed]",
      "text/plain": [
       "<Figure size 432x288 with 1 Axes>"
      ]
     },
     "metadata": {
      "needs_background": "light"
     },
     "output_type": "display_data"
    },
    {
     "data": {
      "image/png": "[encoded data removed]",
      "text/plain": [
       "<Figure size 432x288 with 1 Axes>"
      ]
     },
     "metadata": {
      "needs_background": "light"
     },
     "output_type": "display_data"
    }
   ],
   "source": [
    "# Checking QQPLOT for count , Registerd\n",
    "\n",
    "qqplot(yulu[\"count\"],line='s')\n",
    "plt.xlabel(\"Count\")\n",
    "plt.show()\n",
    "\n",
    "qqplot(yulu[\"registered\"],line='s')\n",
    "plt.xlabel(\"Registered\")\n",
    "plt.show()\n",
    "\n",
    "# showing count and registerd follows some normality"
   ]
  },
  {
   "cell_type": "code",
   "execution_count": 111,
   "id": "8ba7e56c",
   "metadata": {},
   "outputs": [
    {
     "data": {
      "image/png": "[encoded data removed]",
      "text/plain": [
       "<Figure size 432x288 with 1 Axes>"
      ]
     },
     "metadata": {
      "needs_background": "light"
     },
     "output_type": "display_data"
    },
    {
     "name": "stdout",
     "output_type": "stream",
     "text": [
      "95% of temp Data Lies between [ 6.56   34.3375]\n"
     ]
    },
    {
     "data": {
      "image/png": "[encoded data removed]",
      "text/plain": [
       "<Figure size 432x288 with 1 Axes>"
      ]
     },
     "metadata": {
      "needs_background": "light"
     },
     "output_type": "display_data"
    },
    {
     "name": "stdout",
     "output_type": "stream",
     "text": [
      "95% of atemp Data Lies between [ 7.575 38.635]\n"
     ]
    }
   ],
   "source": [
    "#checking Distributon for temp, atemp\n",
    "\n",
    "sns.histplot(yulu[\"temp\"],bins=50,kde=True)\n",
    "plt.show()\n",
    "a=np.percentile(yulu[\"temp\"],[2.5,97.5])\n",
    "print(\"95% of temp Data Lies between\",a)\n",
    "\n",
    "sns.histplot(yulu[\"atemp\"],bins=50,kde=True)\n",
    "plt.show()\n",
    "b=np.percentile(yulu[\"atemp\"],[2.5,97.5])\n",
    "print(\"95% of atemp Data Lies between\",b)\n",
    "\n",
    "# showing Temp and atemp follows normality"
   ]
  },
  {
   "cell_type": "markdown",
   "id": "1a2c9c27",
   "metadata": {},
   "source": [
    "### Hypothesis Testing:\n",
    "\n",
    "2- Sample T-Test to check if Working Day has an effect on the number of electric cycles rented \n",
    "\n",
    "ANNOVA to check if No. of cycles rented is similar or different in different 1. weather 2. season \n",
    "\n",
    "Chi-square test to check if Weather is dependent on the season "
   ]
  },
  {
   "cell_type": "code",
   "execution_count": 107,
   "id": "987d07d7",
   "metadata": {},
   "outputs": [
    {
     "name": "stdout",
     "output_type": "stream",
     "text": [
      "1.5499250736864862e-07\n",
      "Reject Null Hypothesis : Weather and season are dependent\n"
     ]
    }
   ],
   "source": [
    "# Chi-square test\n",
    "\n",
    "#Ho- Weather and season are independent\n",
    "#HA- Weather and season are dependent\n",
    "\n",
    "#Assuming significance level of 5%\n",
    "\n",
    "pd.crosstab(yulu[\"weather\"],yulu[\"season\"])\n",
    "\n",
    "test_stat,Pvalue,dof,expected=chi2_contingency(pd.crosstab(yulu[\"weather\"],yulu[\"season\"]))\n",
    "print(Pvalue)\n",
    "\n",
    "if Pvalue<0.05:\n",
    "    print(\"Reject Null Hypothesis : Weather and season are dependent\")\n",
    "else:\n",
    "    print(\"Fail to reject Null Hypothesis : Weather and season are independent\")"
   ]
  },
  {
   "cell_type": "code",
   "execution_count": 14,
   "id": "11f82f13",
   "metadata": {},
   "outputs": [
    {
     "name": "stdout",
     "output_type": "stream",
     "text": [
      "Reject Null Hypothesis : No. of Cycles rented in different  season is Different\n"
     ]
    }
   ],
   "source": [
    "# Annova Test on count and season\n",
    "\n",
    "#Ho- No. of Cycles rented in different  season is similar\n",
    "#HA- No. of Cycles rented in different  season is Different\n",
    "\n",
    "#Assuming significance level of 5%\n",
    "\n",
    "s1=yulu[yulu[\"season\"]==1][\"count\"]\n",
    "s2=yulu[yulu[\"season\"]==2][\"count\"]\n",
    "s3=yulu[yulu[\"season\"]==3][\"count\"]\n",
    "s4=yulu[yulu[\"season\"]==4][\"count\"]\n",
    "\n",
    "f_stat,Pvalue=f_oneway(s1,s2,s3,s4)\n",
    "\n",
    "if Pvalue<0.05:\n",
    "    print(\"Reject Null Hypothesis : No. of Cycles rented in different  season is Different\")\n",
    "else:\n",
    "    print(\"Fail to reject Null Hypothesis : No. of Cycles rented in different  season is similar\")"
   ]
  },
  {
   "cell_type": "code",
   "execution_count": 47,
   "id": "7d99f253",
   "metadata": {},
   "outputs": [
    {
     "name": "stdout",
     "output_type": "stream",
     "text": [
      "Reject Null Hypothesis :  Difference in variance for different weather\n"
     ]
    }
   ],
   "source": [
    "# Checking Levene On Weather and count \n",
    "\n",
    "#Ho- No Difference in Variace\n",
    "#HA- Difference in variance for different weather\n",
    "stat,Pvalue=levene(yulu[yulu[\"weather\"]==1][\"count\"],yulu[yulu[\"weather\"]==2][\"count\"],\n",
    "                   yulu[yulu[\"weather\"]==3][\"count\"],yulu[yulu[\"weather\"]==4][\"count\"])\n",
    "\n",
    "if Pvalue<0.05:\n",
    "    print(\"Reject Null Hypothesis :  Difference in variance for different weather\")\n",
    "else:\n",
    "    print(\"Fail to reject Null Hypothesis : No Difference in Variace\")"
   ]
  },
  {
   "cell_type": "code",
   "execution_count": 55,
   "id": "383a35cf",
   "metadata": {},
   "outputs": [
    {
     "data": {
      "image/png": "[encoded data removed]",
      "text/plain": [
       "<Figure size 432x288 with 1 Axes>"
      ]
     },
     "metadata": {
      "needs_background": "light"
     },
     "output_type": "display_data"
    },
    {
     "name": "stderr",
     "output_type": "stream",
     "text": [
      "C:\\Users\\aayus\\AppData\\Local\\Programs\\Python\\Python310\\lib\\site-packages\\scipy\\stats\\_morestats.py:1816: UserWarning: p-value may not be accurate for N > 5000.\n",
      "  warnings.warn(\"p-value may not be accurate for N > 5000.\")\n"
     ]
    },
    {
     "name": "stdout",
     "output_type": "stream",
     "text": [
      "Reject Null Hypothesis : Data is not Gaussian\n"
     ]
    },
    {
     "data": {
      "image/png": "[encoded data removed]",
      "text/plain": [
       "<Figure size 432x288 with 1 Axes>"
      ]
     },
     "metadata": {
      "needs_background": "light"
     },
     "output_type": "display_data"
    },
    {
     "name": "stdout",
     "output_type": "stream",
     "text": [
      "Reject Null Hypothesis : Data is not Gaussian\n"
     ]
    }
   ],
   "source": [
    "# Checking Shapiro test\n",
    "#Ho-  Data is Gaussian\n",
    "#HA- Data is not Gaussaian\n",
    "\n",
    "sns.histplot(yulu[yulu[\"weather\"]==1][\"count\"])\n",
    "plt.xlabel(\"Weather=1\")\n",
    "plt.show()\n",
    "stat,Pvalue=shapiro(yulu[yulu[\"weather\"]==1][\"count\"])\n",
    "\n",
    "if Pvalue<0.05:\n",
    "    print(\"Reject Null Hypothesis : Data is not Gaussian\")\n",
    "else:\n",
    "    print(\"Fail to reject Null Hypothesis : Data is Gaussian\")\n",
    "    \n",
    "sns.histplot(yulu[yulu[\"weather\"]==1][\"count\"])\n",
    "plt.xlabel(\"Weather=2\")\n",
    "plt.show()\n",
    "stat,Pvalue=shapiro(yulu[yulu[\"weather\"]==2][\"count\"])\n",
    "\n",
    "if Pvalue<0.05:\n",
    "    print(\"Reject Null Hypothesis : Data is not Gaussian\")\n",
    "else:\n",
    "    print(\"Fail to reject Null Hypothesis : Data is Gaussian\")    "
   ]
  },
  {
   "cell_type": "code",
   "execution_count": 22,
   "id": "86ee83cd",
   "metadata": {},
   "outputs": [
    {
     "name": "stdout",
     "output_type": "stream",
     "text": [
      "Reject Null Hypothesis : No. of Cycles rented in different  weather is Different\n"
     ]
    }
   ],
   "source": [
    "# Annova Test on count and season\n",
    "\n",
    "#Ho- No. of Cycles rented in different  weather is similar\n",
    "#HA- No. of Cycles rented in different  weather is Different\n",
    "\n",
    "#Assuming significance level of 5%\n",
    "\n",
    "w1=yulu[yulu[\"weather\"]==1][\"count\"]\n",
    "w2=yulu[yulu[\"weather\"]==2][\"count\"]\n",
    "w3=yulu[yulu[\"weather\"]==3][\"count\"]\n",
    "w4=yulu[yulu[\"weather\"]==4][\"count\"]\n",
    "\n",
    "f_stat,Pvalue=f_oneway(w1,w2,w3,w4)\n",
    "\n",
    "if Pvalue<0.05:\n",
    "    print(\"Reject Null Hypothesis : No. of Cycles rented in different  weather is Different\")\n",
    "else:\n",
    "    print(\"Fail to reject Null Hypothesis : No. of Cycles rented in different  weather is similar\")"
   ]
  },
  {
   "cell_type": "code",
   "execution_count": 21,
   "id": "520bf8d5",
   "metadata": {},
   "outputs": [
    {
     "name": "stdout",
     "output_type": "stream",
     "text": [
      "Fail to reject Null Hypothesis : No impact of Working days on number of cycles rented\n"
     ]
    }
   ],
   "source": [
    "# 2 Samples T-Test on No. of Working Days and no. of cycles rented\n",
    "\n",
    "#Ho- No impact of Working days on number of cycles rented\n",
    "#HA- Working Days Impact Number of cycles rented\n",
    "\n",
    "workday_yes=yulu[yulu[\"workingday\"]==1][\"count\"]\n",
    "workday_no=yulu[yulu[\"workingday\"]==0][\"count\"]\n",
    "\n",
    "t_stat,Pvalue=ttest_ind_from_stats(workday_yes.mean(),workday_yes.std(),len(workday_yes),\n",
    "                                  workday_no.mean(),workday_no.std(),len(workday_no))\n",
    "\n",
    "if Pvalue<0.05:\n",
    "    print(\"Reject Null Hypothesis : Working Days Impact Number of cycles rented\")\n",
    "else:\n",
    "    print(\"Fail to reject Null Hypothesis : No impact of Working days on number of cycles rented\")"
   ]
  },
  {
   "cell_type": "markdown",
   "id": "2ff3356f",
   "metadata": {},
   "source": [
    "## Insights\n",
    "\n",
    "1. From Chi Square we get to know Weather and season are dependent\n",
    "\n",
    "2. From Annova Test we get to know No. of Cycles rented in different  season is Different\n",
    "\n",
    "3. From Levene and shapiro test we conclude that there is difference in variance for different weather, Hence Violated Assumption of Annova test and Gaussian Normality is not foolowed so also violated the annova assumptions.\n",
    "\n",
    "4. From 2 Sample test i.e. Ttest we noted that there is No impact of Working days on number of cycles rented\n",
    "\n",
    "5. We Should more focus on non working days also\n",
    "\n",
    "6. We should also focus on Holiday to provide yulu services at less rate to attract users for yulu bikes on Holidays days\n",
    "\n",
    "7. we should introduce some New bikes with having facilty of protecting user from heavy rains , strom so that we can increase our sales on weather=4 days\n",
    "\n",
    "8. we should decrease our price or offer customer some discount coupons if they use yulu services on holiday and non working days."
   ]
  },
  {
   "cell_type": "code",
   "execution_count": null,
   "id": "4f4668eb",
   "metadata": {},
   "outputs": [],
   "source": []
  },
  {
   "cell_type": "code",
   "execution_count": null,
   "id": "c0cf255b",
   "metadata": {},
   "outputs": [],
   "source": []
  },
  {
   "cell_type": "code",
   "execution_count": null,
   "id": "4b565285",
   "metadata": {},
   "outputs": [],
   "source": []
  },
  {
   "cell_type": "code",
   "execution_count": null,
   "id": "3fd88e44",
   "metadata": {},
   "outputs": [],
   "source": []
  },
  {
   "cell_type": "code",
   "execution_count": null,
   "id": "f7d7ef6e",
   "metadata": {},
   "outputs": [],
   "source": []
  },
  {
   "cell_type": "code",
   "execution_count": null,
   "id": "4c734cd1",
   "metadata": {},
   "outputs": [],
   "source": []
  },
  {
   "cell_type": "code",
   "execution_count": null,
   "id": "e9ea01fd",
   "metadata": {},
   "outputs": [],
   "source": []
  },
  {
   "cell_type": "code",
   "execution_count": null,
   "id": "8812360e",
   "metadata": {},
   "outputs": [],
   "source": []
  },
  {
   "cell_type": "code",
   "execution_count": null,
   "id": "b569050b",
   "metadata": {},
   "outputs": [],
   "source": []
  }
 ],
 "metadata": {
  "kernelspec": {
   "display_name": "Python 3 (ipykernel)",
   "language": "python",
   "name": "python3"
  },
  "language_info": {
   "codemirror_mode": {
    "name": "ipython",
    "version": 3
   },
   "file_extension": ".py",
   "mimetype": "text/x-python",
   "name": "python",
   "nbconvert_exporter": "python",
   "pygments_lexer": "ipython3",
   "version": "3.10.0"
  }
 },
 "nbformat": 4,
 "nbformat_minor": 5
}
